{
  "cells": [
    {
      "cell_type": "markdown",
      "metadata": {
        "id": "Hs3-rqQLaMOs"
      },
      "source": [
        "**Grand Assignment**"
      ]
    },
    {
      "cell_type": "markdown",
      "metadata": {
        "id": "yoFPv_Hcb3Iv"
      },
      "source": [
        "***Variables and Strings***"
      ]
    },
    {
      "cell_type": "markdown",
      "metadata": {
        "id": "XLAWmJh_b9vr"
      },
      "source": [
        "*1.**Simple Message:** Assign a message to a variable, and then print that\n",
        "message.* "
      ]
    },
    {
      "cell_type": "code",
      "execution_count": 1,
      "metadata": {
        "id": "Xu9FoVk1aKtu"
      },
      "outputs": [
        {
          "name": "stdout",
          "output_type": "stream",
          "text": [
            "Life is 10% what happens to you and 90% that how you react to it.\n"
          ]
        }
      ],
      "source": [
        "insp_note = (\"Life is 10% what happens to you and 90% that how you react to it.\")\n",
        "print(insp_note)"
      ]
    },
    {
      "cell_type": "markdown",
      "metadata": {
        "id": "Ckp41qGzcMhY"
      },
      "source": [
        "2.Find a quote from a famous person you admire. Print the\n",
        "quote and the name of its author. Your output should look something like the\n",
        "following, including the quotation marks:\n",
        "\n",
        "**Albert Einstein once said, “A person who never made a\n",
        "mistake never tried anything new.”**\n"
      ]
    },
    {
      "cell_type": "code",
      "execution_count": 1,
      "metadata": {
        "id": "RAOYKTZDc9l5"
      },
      "outputs": [
        {
          "name": "stdout",
          "output_type": "stream",
          "text": [
            "William Shakespeare: once said ,\"Love all,trust few do nothing to none.\"\n"
          ]
        }
      ],
      "source": [
        "author_name = (\"William Shakespeare: \")\n",
        "famous_quote = ('''\"Love all,trust few do nothing to none.\"''')\n",
        "print(author_name  + \"once said ,\"  + famous_quote)"
      ]
    },
    {
      "cell_type": "markdown",
      "metadata": {
        "id": "5dsWBIrAduRU"
      },
      "source": [
        "*3. Use a variable to represent your favorite number. Then,\n",
        "using that variable, create a message that reveals your favorite number. Print\n",
        "that message*"
      ]
    },
    {
      "cell_type": "code",
      "execution_count": 5,
      "metadata": {
        "id": "n5bKUt2Xdxet"
      },
      "outputs": [
        {
          "name": "stdout",
          "output_type": "stream",
          "text": [
            "Hello! My name is Haroon and my favourie number is : 17\n"
          ]
        }
      ],
      "source": [
        "fav_num =input((\"Enter Your Favourite Number:\" ))\n",
        "print(\"Hello! My name is Haroon and my favourie number is : \" + fav_num)"
      ]
    },
    {
      "cell_type": "markdown",
      "metadata": {
        "id": "03-7JmJFh1gu"
      },
      "source": [
        "4. **Calculate Area of a Circle::**\n",
        "\n",
        "Write a Python program which accepts the radius of a circle from the user and compute the area.\n",
        "\n",
        "Program Console Sample Output 1:\n",
        "\n",
        "Input Radius: 0.5\n",
        "\n",
        "Area of Circle with radius 0.5 is 0.7853981634"
      ]
    },
    {
      "cell_type": "code",
      "execution_count": 8,
      "metadata": {
        "id": "ZQqUhli7iD8V"
      },
      "outputs": [
        {
          "name": "stdout",
          "output_type": "stream",
          "text": [
            "Your input radius is:  1.5\n",
            "Area of a circle with radius is:  7.0677\n"
          ]
        }
      ],
      "source": [
        "#\"This program is to calculate area of circle\"\n",
        "constant_pi=3.1412\n",
        "radius=float(input(\"Enter the required radius of circle:\"))\n",
        "area_of_circle = constant_pi * radius**2\n",
        "print(\"Your input radius is: \",radius)\n",
        "print(\"Area of a circle with radius is: \",area_of_circle)\n"
      ]
    },
    {
      "cell_type": "markdown",
      "metadata": {
        "id": "_52LUHoriEdK"
      },
      "source": [
        "5. **Check Number either positive, negative or zero::**\n",
        "\n",
        "Write a Python program to check if a number is positive, \n",
        "\n",
        "negative or zero\n",
        "\n",
        "Program Console Sample Output 1:\n",
        "\n",
        "Enter Number: -1\n",
        "\n",
        "Negative Number Entered\n",
        "\n",
        "Program Console Sample Output 2:\n",
        "\n",
        "Integer: 3\n",
        "\n",
        "Positive Number Entered\n",
        "\n",
        "Program Console Sample Output 3:\n",
        "\n",
        "Integer: 0\n",
        "\n",
        "Zero Entered"
      ]
    },
    {
      "cell_type": "code",
      "execution_count": 9,
      "metadata": {
        "id": "_yLJAc80iXk0"
      },
      "outputs": [
        {
          "name": "stdout",
          "output_type": "stream",
          "text": [
            "5 is postive number\n"
          ]
        }
      ],
      "source": [
        "num = int(input(\"Enter Required number\"))\n",
        "\n",
        "if num > 0:\n",
        "    print(num,\"is postive number\")\n",
        "elif num == 0:\n",
        "    print(num,\"is zero\")\n",
        "else:\n",
        "    print(num,\"is negative number\")"
      ]
    },
    {
      "cell_type": "markdown",
      "metadata": {
        "id": "vjXA6uhpiYQX"
      },
      "source": [
        "6. **Vowel Tester**\n",
        "Write a Python program to test whether a passed letter is a vowel or not\n",
        "\n",
        "Program Console Output 1:\n",
        "\n",
        "Enter a character: A\n",
        "\n",
        "Letter A is Vowel\n",
        "\n",
        "Program Console Output 2:\n",
        "\n",
        "Enter a character: e\n",
        "\n",
        "Letter e is Vowel\n",
        "\n",
        "Program Console Output 2:\n",
        "\n",
        "Enter a character: N\n",
        "\n",
        "Letter N is not Vowel."
      ]
    },
    {
      "cell_type": "code",
      "execution_count": 10,
      "metadata": {
        "id": "L62zqtG1jEb9"
      },
      "outputs": [
        {
          "name": "stdout",
          "output_type": "stream",
          "text": [
            "c is not vowel\n"
          ]
        }
      ],
      "source": [
        "#Vowel Testor::\n",
        "ch= (input(\"Enter a Alphabet: \"))\n",
        "\n",
        "if ch in (\"a\",\"e\",\"i\",\"o\",\"u\",\"A\",\"E\",\"I\",\"O\",\"U\"):\n",
        "    print(ch,\"is vowel\")\n",
        "else:\n",
        "    print(ch,\"is not vowel\")"
      ]
    },
    {
      "cell_type": "markdown",
      "metadata": {
        "id": "qZIGjsnDjFdk"
      },
      "source": [
        "7. **BMI Calculator**\n",
        "\n",
        "Write a Python program to calculate body mass index\n",
        "Program Console Sample 1:\n",
        "\n",
        "Enter Height in Cm: 180\n",
        "\n",
        "Enter Weight in Kg: 75\n",
        "\n",
        "Your BMI is 23.15"
      ]
    },
    {
      "cell_type": "code",
      "execution_count": 13,
      "metadata": {
        "id": "lE-JyyTnjcJU"
      },
      "outputs": [
        {
          "name": "stdout",
          "output_type": "stream",
          "text": [
            "This program is to calculate BMI of an individual\n",
            "Your bmi is:  3257.142857142857\n"
          ]
        }
      ],
      "source": [
        "print(\"This program is to calculate BMI of an individual\")\n",
        "name=(input(\"Enter your name: \"))\n",
        "height=float(input(\"Enter your height in cm: \"))\n",
        "weight=float(input(\"Enter your weight in kg: \"))\n",
        "\n",
        "bmi=weight / ( height/100 ** 2 )\n",
        "print(\"Your bmi is: \",bmi)"
      ]
    },
    {
      "cell_type": "markdown",
      "metadata": {
        "id": "11fYzZYid3qq"
      },
      "source": [
        "**List::**"
      ]
    },
    {
      "cell_type": "markdown",
      "metadata": {
        "id": "oUNnrKdyeOks"
      },
      "source": [
        "8. **Store the names of a few of your friends in a list called names**\n",
        "\n",
        " Print each person’s name by accessing each element in the list, one at a time."
      ]
    },
    {
      "cell_type": "code",
      "execution_count": 14,
      "metadata": {
        "id": "RY49qmHQeOGB"
      },
      "outputs": [
        {
          "name": "stdout",
          "output_type": "stream",
          "text": [
            "Azan\n",
            "Ammad\n",
            "Ayan\n",
            "Sahil\n",
            "Yahya\n"
          ]
        }
      ],
      "source": [
        "names=[\"Azan\",\"Ammad\",\"Ayan\",\"Sahil\",\"Yahya\"]\n",
        "print(names[0])\n",
        "print(names[1])\n",
        "print(names[2])\n",
        "print(names[3])\n",
        "print(names[4])"
      ]
    },
    {
      "cell_type": "markdown",
      "metadata": {
        "id": "HQe4CmBLd0a0"
      },
      "source": [
        "9. Start with the list you used in Question 4, but instead of just  printing each person’s name, print a message to them. The text of each message should be the same, but each message should be personalized with the\n",
        "person’s name."
      ]
    },
    {
      "cell_type": "code",
      "execution_count": 15,
      "metadata": {
        "id": "QfaA6SZieroG"
      },
      "outputs": [
        {
          "name": "stdout",
          "output_type": "stream",
          "text": [
            "Azan :Meet me at coaching ASAP.\n",
            "Ammad :Buy some food for me.\n",
            "Ayan :Bro,Let's play some interesting games.\n",
            "Sahil :I have to discuss something important to u.\n",
            "Yahya :How's your day brother?\n"
          ]
        }
      ],
      "source": [
        "names=[\"Azan\",\"Ammad\",\"Ayan\",\"Sahil\",\"Yahya\"]\n",
        "print(names[0],\":Meet me at coaching ASAP.\")\n",
        "print(names[1],\":Buy some food for me.\")\n",
        "print(names[2],\":Bro,Let's play some interesting games.\")\n",
        "print(names[3],\":I have to discuss something important to u.\")\n",
        "print(names[4],\":How's your day brother?\")"
      ]
    },
    {
      "cell_type": "markdown",
      "metadata": {
        "id": "3t-zoTSTesyI"
      },
      "source": [
        " 10.**Make a python program that conatains your nine favourite dishes in a list called foods.**\n",
        "Print the message, The first three items in the list are:\n",
        "\n",
        "Then use a slice to print the first three items from that program’s list.\n",
        "\n",
        "Print the message, Three items from the middle of the list are:\n",
        "\n",
        "Use a slice to print three items from the middle of the list.\n",
        "\n",
        "Print the message, The last three items in the list are:\n",
        "\n",
        "Use a slice to print the last three items in the list."
      ]
    },
    {
      "cell_type": "code",
      "execution_count": 16,
      "metadata": {
        "id": "ZpnPQbgAmQhu"
      },
      "outputs": [
        {
          "name": "stdout",
          "output_type": "stream",
          "text": [
            "The first three items in the are : ['Biryani', 'Karahi', 'Pasta']\n",
            "Three items from middle of the list are:['Donuts', 'Burgers', 'Sandwiches']\n",
            "The last three items in the list are : ['Ice-creams', 'Pizzas', 'French_Fries']\n"
          ]
        }
      ],
      "source": [
        "foods=[\"Biryani\",\"Karahi\",\"Pasta\",\"Donuts\",\"Burgers\",\"Sandwiches\",\"Ice-creams\",\"Pizzas\",\"French_Fries\"]\n",
        "print(\"The first three items in the are : \" + str(foods[0:3]))\n",
        "print(\"Three items from middle of the list are:\" + str(foods[3:6]))\n",
        "print(\"The last three items in the list are : \" + str(foods[6:9]))"
      ]
    },
    {
      "cell_type": "markdown",
      "metadata": {
        "id": "h37WaaZKmRMe"
      },
      "source": [
        "11. **Start with your program from your last Question8.**\n",
        "Make a copy of the list of foods, and call it friend_foods.\n",
        "Then, do the following:\n",
        "\n",
        "Add a new dish to the original list.\n",
        "\n",
        "Add a different dish to the list friend_foods.\n",
        "\n",
        "Prove that you have two separate lists.\n",
        "\n",
        "Print the message, My favorite pizzas are: and then use a for loop to print the first list.\n",
        "\n",
        "Print the message,\n",
        "\n",
        "My friend’s favorite foods are:, and then use a for loop to print the second list.\n",
        "\n",
        "NOTE: Make sure each new dish is stored in the appropriate list."
      ]
    },
    {
      "cell_type": "code",
      "execution_count": 17,
      "metadata": {
        "id": "6FvxV2CioBQB"
      },
      "outputs": [
        {
          "name": "stdout",
          "output_type": "stream",
          "text": [
            "['Biryani', 'Karahi', 'Pasta', 'Donuts', 'Burgers', 'Sandwiches', 'Ice-creams', 'Pizzas', 'French_Fries', 'Nuggets']\n",
            "['Biryani', 'Karahi', 'Pasta', 'Donuts', 'Burgers', 'Sandwiches', 'Ice-creams', 'Pizzas', 'French_Fries', 'Qorma']\n",
            "First list\n",
            "My favourite foods are: \n",
            "Biryani\n",
            "Karahi\n",
            "Pasta\n",
            "Donuts\n",
            "Burgers\n",
            "Sandwiches\n",
            "Ice-creams\n",
            "Pizzas\n",
            "French_Fries\n",
            "Nuggets\n",
            "Second List\n",
            "My friend's favourite foods are: \n",
            "Biryani\n",
            "Karahi\n",
            "Pasta\n",
            "Donuts\n",
            "Burgers\n",
            "Sandwiches\n",
            "Ice-creams\n",
            "Pizzas\n",
            "French_Fries\n",
            "Qorma\n"
          ]
        }
      ],
      "source": [
        "friend_foods = foods.copy()\n",
        "(foods.append(\"Nuggets\"))\n",
        "friend_foods.append(\"Qorma\")\n",
        "print(foods)\n",
        "print(friend_foods)\n",
        "\n",
        "print(\"First list\")\n",
        "print(\"My favourite foods are: \")\n",
        "for items in foods:\n",
        "    print(items)   \n",
        " \n",
        "print(\"Second List\")\n",
        "print(\"My friend's favourite foods are: \")    \n",
        "for items in friend_foods:\n",
        "    print(items)\n"
      ]
    },
    {
      "cell_type": "code",
      "execution_count": null,
      "metadata": {},
      "outputs": [],
      "source": []
    }
  ],
  "metadata": {
    "colab": {
      "collapsed_sections": [],
      "name": "Assignment.ipynb",
      "provenance": []
    },
    "kernelspec": {
      "display_name": "Python 3.9.12 ('base')",
      "language": "python",
      "name": "python3"
    },
    "language_info": {
      "codemirror_mode": {
        "name": "ipython",
        "version": 3
      },
      "file_extension": ".py",
      "mimetype": "text/x-python",
      "name": "python",
      "nbconvert_exporter": "python",
      "pygments_lexer": "ipython3",
      "version": "3.9.12"
    },
    "vscode": {
      "interpreter": {
        "hash": "e2eb20ad73053ece6eccf6a8b4121ba27fcf172f4c47f7cc43d1d76f0ebd8072"
      }
    }
  },
  "nbformat": 4,
  "nbformat_minor": 0
}
